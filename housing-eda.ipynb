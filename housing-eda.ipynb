{
 "cells": [
  {
   "cell_type": "code",
   "execution_count": 1,
   "id": "df9c9bd2",
   "metadata": {
    "_cell_guid": "b1076dfc-b9ad-4769-8c92-a6c4dae69d19",
    "_uuid": "8f2839f25d086af736a60e9eeb907d3b93b6e0e5",
    "execution": {
     "iopub.execute_input": "2022-02-27T14:14:59.931881Z",
     "iopub.status.busy": "2022-02-27T14:14:59.931303Z",
     "iopub.status.idle": "2022-02-27T14:14:59.941457Z",
     "shell.execute_reply": "2022-02-27T14:14:59.941962Z",
     "shell.execute_reply.started": "2022-02-27T13:14:37.559262Z"
    },
    "papermill": {
     "duration": 0.045216,
     "end_time": "2022-02-27T14:14:59.942228",
     "exception": false,
     "start_time": "2022-02-27T14:14:59.897012",
     "status": "completed"
    },
    "tags": []
   },
   "outputs": [
    {
     "name": "stdout",
     "output_type": "stream",
     "text": [
      "/kaggle/input/housing/housing.csv\n"
     ]
    }
   ],
   "source": [
    "# This Python 3 environment comes with many helpful analytics libraries installed\n",
    "# It is defined by the kaggle/python Docker image: https://github.com/kaggle/docker-python\n",
    "# For example, here's several helpful packages to load\n",
    "\n",
    "import numpy as np # linear algebra\n",
    "import pandas as pd # data processing, CSV file I/O (e.g. pd.read_csv)\n",
    "                                            \n",
    "# Input data files are available in the read-only \"../input/\" directory\n",
    "# For example, running this (by clicking run or pressing Shift+Enter) will list all files under the input directory\n",
    "\n",
    "import os\n",
    "for dirname, _, filenames in os.walk('/kaggle/input'):\n",
    "    for filename in filenames:\n",
    "        print(os.path.join(dirname, filename))\n",
    "\n",
    "# You can write up to 20GB to the current directory (/kaggle/working/) that gets preserved as output when you create a version using \"Save & Run All\" \n",
    "# You can also write temporary files to /kaggle/temp/, but they won't be saved outside of the current session"
   ]
  },
  {
   "cell_type": "markdown",
   "id": "94dd1ca2",
   "metadata": {
    "papermill": {
     "duration": 0.020218,
     "end_time": "2022-02-27T14:14:59.984304",
     "exception": false,
     "start_time": "2022-02-27T14:14:59.964086",
     "status": "completed"
    },
    "tags": []
   },
   "source": [
    "# Dataset Description:\n",
    "\n",
    "The house-price data of Harrison, D. and Rubinfeld, D.L. 'Hedonic prices and the demand for clean air', J. Environ. Economics & Management, vol.5, 81-102, 1978.   Used in Belsley, Kuh & Welsch, 'Regression diagnostics ...', Wiley, 1980.   \n",
    "\n",
    "#  Variables in order:\n",
    "\n",
    "\n",
    " 1. **CRIM**     per capita crime rate by town\n",
    " \n",
    " 1. **ZN**       proportion of residential land zoned for lots over 25,000 sq.ft.\n",
    " \n",
    " 1. **INDUS**    proportion of non-retail business acres per town\n",
    " \n",
    " 1. **CHAS**     Charles River dummy variable (= 1 if tract bounds river; 0 otherwise)\n",
    " \n",
    " 1. **NOX**      nitric oxides concentration (parts per 10 million)\n",
    " \n",
    " 1. **RM**       average number of rooms per dwelling\n",
    " \n",
    " 1. **AGE**      proportion of owner-occupied units built prior to 1940\n",
    " \n",
    " 1. **DIS**      weighted distances to five Boston employment centres\n",
    " \n",
    " 1. **RAD**      index of accessibility to radial highways\n",
    " \n",
    " 1. **TAX**      full-value property-tax rate per $10,000\n",
    " \n",
    " 1. **PTRATIO**  pupil-teacher ratio by town\n",
    " \n",
    " 1. **B**        1000(Bk - 0.63)^2 where Bk is the proportion of blacks by town\n",
    " \n",
    " 1. **LSTAT**    % lower status of the population\n",
    " \n",
    " 1. **MEDV**     Median value of owner-occupied homes in $1000's\n",
    " "
   ]
  },
  {
   "cell_type": "code",
   "execution_count": 2,
   "id": "4ba84dcd",
   "metadata": {
    "execution": {
     "iopub.execute_input": "2022-02-27T14:15:00.029353Z",
     "iopub.status.busy": "2022-02-27T14:15:00.028830Z",
     "iopub.status.idle": "2022-02-27T14:15:00.924252Z",
     "shell.execute_reply": "2022-02-27T14:15:00.924717Z",
     "shell.execute_reply.started": "2022-02-27T13:32:13.292265Z"
    },
    "papermill": {
     "duration": 0.919411,
     "end_time": "2022-02-27T14:15:00.924891",
     "exception": false,
     "start_time": "2022-02-27T14:15:00.005480",
     "status": "completed"
    },
    "tags": []
   },
   "outputs": [],
   "source": [
    "import pandas as pd\n",
    "import numpy as np\n",
    "import matplotlib.pyplot as plt\n",
    "import seaborn as sns\n",
    "import missingno as msno"
   ]
  },
  {
   "cell_type": "markdown",
   "id": "cb3887b5",
   "metadata": {
    "papermill": {
     "duration": 0.020983,
     "end_time": "2022-02-27T14:15:00.967353",
     "exception": false,
     "start_time": "2022-02-27T14:15:00.946370",
     "status": "completed"
    },
    "tags": []
   },
   "source": [
    "# Load the dataset into pandas and get a peek at the underlying data in the dataframe."
   ]
  },
  {
   "cell_type": "code",
   "execution_count": 3,
   "id": "75987b51",
   "metadata": {
    "execution": {
     "iopub.execute_input": "2022-02-27T14:15:01.012866Z",
     "iopub.status.busy": "2022-02-27T14:15:01.012155Z",
     "iopub.status.idle": "2022-02-27T14:15:01.029886Z",
     "shell.execute_reply": "2022-02-27T14:15:01.030811Z",
     "shell.execute_reply.started": "2022-02-27T13:22:23.995550Z"
    },
    "papermill": {
     "duration": 0.042426,
     "end_time": "2022-02-27T14:15:01.031028",
     "exception": false,
     "start_time": "2022-02-27T14:15:00.988602",
     "status": "completed"
    },
    "tags": []
   },
   "outputs": [],
   "source": [
    "name=['CRIM', 'ZN', 'INDUS', 'CHAS' ,'NOX' , 'RM' ,'AGE' ,'DIS', 'RAD','TAX' ,'PTRATIO' ,'B' ,'LSTAT' ,'MEDV' ]\n",
    "housing = pd.read_csv('/kaggle/input/housing/housing.csv',names=name,delimiter=r\"\\s+\")"
   ]
  },
  {
   "cell_type": "code",
   "execution_count": 4,
   "id": "83c4142a",
   "metadata": {
    "execution": {
     "iopub.execute_input": "2022-02-27T14:15:01.082068Z",
     "iopub.status.busy": "2022-02-27T14:15:01.081436Z",
     "iopub.status.idle": "2022-02-27T14:15:01.108059Z",
     "shell.execute_reply": "2022-02-27T14:15:01.108491Z",
     "shell.execute_reply.started": "2022-02-27T13:22:25.804740Z"
    },
    "papermill": {
     "duration": 0.056483,
     "end_time": "2022-02-27T14:15:01.108648",
     "exception": false,
     "start_time": "2022-02-27T14:15:01.052165",
     "status": "completed"
    },
    "tags": []
   },
   "outputs": [
    {
     "data": {
      "text/html": [
       "<div>\n",
       "<style scoped>\n",
       "    .dataframe tbody tr th:only-of-type {\n",
       "        vertical-align: middle;\n",
       "    }\n",
       "\n",
       "    .dataframe tbody tr th {\n",
       "        vertical-align: top;\n",
       "    }\n",
       "\n",
       "    .dataframe thead th {\n",
       "        text-align: right;\n",
       "    }\n",
       "</style>\n",
       "<table border=\"1\" class=\"dataframe\">\n",
       "  <thead>\n",
       "    <tr style=\"text-align: right;\">\n",
       "      <th></th>\n",
       "      <th>CRIM</th>\n",
       "      <th>ZN</th>\n",
       "      <th>INDUS</th>\n",
       "      <th>CHAS</th>\n",
       "      <th>NOX</th>\n",
       "      <th>RM</th>\n",
       "      <th>AGE</th>\n",
       "      <th>DIS</th>\n",
       "      <th>RAD</th>\n",
       "      <th>TAX</th>\n",
       "      <th>PTRATIO</th>\n",
       "      <th>B</th>\n",
       "      <th>LSTAT</th>\n",
       "      <th>MEDV</th>\n",
       "    </tr>\n",
       "  </thead>\n",
       "  <tbody>\n",
       "    <tr>\n",
       "      <th>0</th>\n",
       "      <td>0.00632</td>\n",
       "      <td>18.0</td>\n",
       "      <td>2.31</td>\n",
       "      <td>0</td>\n",
       "      <td>0.538</td>\n",
       "      <td>6.575</td>\n",
       "      <td>65.2</td>\n",
       "      <td>4.0900</td>\n",
       "      <td>1</td>\n",
       "      <td>296.0</td>\n",
       "      <td>15.3</td>\n",
       "      <td>396.90</td>\n",
       "      <td>4.98</td>\n",
       "      <td>24.0</td>\n",
       "    </tr>\n",
       "    <tr>\n",
       "      <th>1</th>\n",
       "      <td>0.02731</td>\n",
       "      <td>0.0</td>\n",
       "      <td>7.07</td>\n",
       "      <td>0</td>\n",
       "      <td>0.469</td>\n",
       "      <td>6.421</td>\n",
       "      <td>78.9</td>\n",
       "      <td>4.9671</td>\n",
       "      <td>2</td>\n",
       "      <td>242.0</td>\n",
       "      <td>17.8</td>\n",
       "      <td>396.90</td>\n",
       "      <td>9.14</td>\n",
       "      <td>21.6</td>\n",
       "    </tr>\n",
       "    <tr>\n",
       "      <th>2</th>\n",
       "      <td>0.02729</td>\n",
       "      <td>0.0</td>\n",
       "      <td>7.07</td>\n",
       "      <td>0</td>\n",
       "      <td>0.469</td>\n",
       "      <td>7.185</td>\n",
       "      <td>61.1</td>\n",
       "      <td>4.9671</td>\n",
       "      <td>2</td>\n",
       "      <td>242.0</td>\n",
       "      <td>17.8</td>\n",
       "      <td>392.83</td>\n",
       "      <td>4.03</td>\n",
       "      <td>34.7</td>\n",
       "    </tr>\n",
       "    <tr>\n",
       "      <th>3</th>\n",
       "      <td>0.03237</td>\n",
       "      <td>0.0</td>\n",
       "      <td>2.18</td>\n",
       "      <td>0</td>\n",
       "      <td>0.458</td>\n",
       "      <td>6.998</td>\n",
       "      <td>45.8</td>\n",
       "      <td>6.0622</td>\n",
       "      <td>3</td>\n",
       "      <td>222.0</td>\n",
       "      <td>18.7</td>\n",
       "      <td>394.63</td>\n",
       "      <td>2.94</td>\n",
       "      <td>33.4</td>\n",
       "    </tr>\n",
       "    <tr>\n",
       "      <th>4</th>\n",
       "      <td>0.06905</td>\n",
       "      <td>0.0</td>\n",
       "      <td>2.18</td>\n",
       "      <td>0</td>\n",
       "      <td>0.458</td>\n",
       "      <td>7.147</td>\n",
       "      <td>54.2</td>\n",
       "      <td>6.0622</td>\n",
       "      <td>3</td>\n",
       "      <td>222.0</td>\n",
       "      <td>18.7</td>\n",
       "      <td>396.90</td>\n",
       "      <td>5.33</td>\n",
       "      <td>36.2</td>\n",
       "    </tr>\n",
       "    <tr>\n",
       "      <th>...</th>\n",
       "      <td>...</td>\n",
       "      <td>...</td>\n",
       "      <td>...</td>\n",
       "      <td>...</td>\n",
       "      <td>...</td>\n",
       "      <td>...</td>\n",
       "      <td>...</td>\n",
       "      <td>...</td>\n",
       "      <td>...</td>\n",
       "      <td>...</td>\n",
       "      <td>...</td>\n",
       "      <td>...</td>\n",
       "      <td>...</td>\n",
       "      <td>...</td>\n",
       "    </tr>\n",
       "    <tr>\n",
       "      <th>501</th>\n",
       "      <td>0.06263</td>\n",
       "      <td>0.0</td>\n",
       "      <td>11.93</td>\n",
       "      <td>0</td>\n",
       "      <td>0.573</td>\n",
       "      <td>6.593</td>\n",
       "      <td>69.1</td>\n",
       "      <td>2.4786</td>\n",
       "      <td>1</td>\n",
       "      <td>273.0</td>\n",
       "      <td>21.0</td>\n",
       "      <td>391.99</td>\n",
       "      <td>9.67</td>\n",
       "      <td>22.4</td>\n",
       "    </tr>\n",
       "    <tr>\n",
       "      <th>502</th>\n",
       "      <td>0.04527</td>\n",
       "      <td>0.0</td>\n",
       "      <td>11.93</td>\n",
       "      <td>0</td>\n",
       "      <td>0.573</td>\n",
       "      <td>6.120</td>\n",
       "      <td>76.7</td>\n",
       "      <td>2.2875</td>\n",
       "      <td>1</td>\n",
       "      <td>273.0</td>\n",
       "      <td>21.0</td>\n",
       "      <td>396.90</td>\n",
       "      <td>9.08</td>\n",
       "      <td>20.6</td>\n",
       "    </tr>\n",
       "    <tr>\n",
       "      <th>503</th>\n",
       "      <td>0.06076</td>\n",
       "      <td>0.0</td>\n",
       "      <td>11.93</td>\n",
       "      <td>0</td>\n",
       "      <td>0.573</td>\n",
       "      <td>6.976</td>\n",
       "      <td>91.0</td>\n",
       "      <td>2.1675</td>\n",
       "      <td>1</td>\n",
       "      <td>273.0</td>\n",
       "      <td>21.0</td>\n",
       "      <td>396.90</td>\n",
       "      <td>5.64</td>\n",
       "      <td>23.9</td>\n",
       "    </tr>\n",
       "    <tr>\n",
       "      <th>504</th>\n",
       "      <td>0.10959</td>\n",
       "      <td>0.0</td>\n",
       "      <td>11.93</td>\n",
       "      <td>0</td>\n",
       "      <td>0.573</td>\n",
       "      <td>6.794</td>\n",
       "      <td>89.3</td>\n",
       "      <td>2.3889</td>\n",
       "      <td>1</td>\n",
       "      <td>273.0</td>\n",
       "      <td>21.0</td>\n",
       "      <td>393.45</td>\n",
       "      <td>6.48</td>\n",
       "      <td>22.0</td>\n",
       "    </tr>\n",
       "    <tr>\n",
       "      <th>505</th>\n",
       "      <td>0.04741</td>\n",
       "      <td>0.0</td>\n",
       "      <td>11.93</td>\n",
       "      <td>0</td>\n",
       "      <td>0.573</td>\n",
       "      <td>6.030</td>\n",
       "      <td>80.8</td>\n",
       "      <td>2.5050</td>\n",
       "      <td>1</td>\n",
       "      <td>273.0</td>\n",
       "      <td>21.0</td>\n",
       "      <td>396.90</td>\n",
       "      <td>7.88</td>\n",
       "      <td>11.9</td>\n",
       "    </tr>\n",
       "  </tbody>\n",
       "</table>\n",
       "<p>506 rows × 14 columns</p>\n",
       "</div>"
      ],
      "text/plain": [
       "        CRIM    ZN  INDUS  CHAS    NOX     RM   AGE     DIS  RAD    TAX  \\\n",
       "0    0.00632  18.0   2.31     0  0.538  6.575  65.2  4.0900    1  296.0   \n",
       "1    0.02731   0.0   7.07     0  0.469  6.421  78.9  4.9671    2  242.0   \n",
       "2    0.02729   0.0   7.07     0  0.469  7.185  61.1  4.9671    2  242.0   \n",
       "3    0.03237   0.0   2.18     0  0.458  6.998  45.8  6.0622    3  222.0   \n",
       "4    0.06905   0.0   2.18     0  0.458  7.147  54.2  6.0622    3  222.0   \n",
       "..       ...   ...    ...   ...    ...    ...   ...     ...  ...    ...   \n",
       "501  0.06263   0.0  11.93     0  0.573  6.593  69.1  2.4786    1  273.0   \n",
       "502  0.04527   0.0  11.93     0  0.573  6.120  76.7  2.2875    1  273.0   \n",
       "503  0.06076   0.0  11.93     0  0.573  6.976  91.0  2.1675    1  273.0   \n",
       "504  0.10959   0.0  11.93     0  0.573  6.794  89.3  2.3889    1  273.0   \n",
       "505  0.04741   0.0  11.93     0  0.573  6.030  80.8  2.5050    1  273.0   \n",
       "\n",
       "     PTRATIO       B  LSTAT  MEDV  \n",
       "0       15.3  396.90   4.98  24.0  \n",
       "1       17.8  396.90   9.14  21.6  \n",
       "2       17.8  392.83   4.03  34.7  \n",
       "3       18.7  394.63   2.94  33.4  \n",
       "4       18.7  396.90   5.33  36.2  \n",
       "..       ...     ...    ...   ...  \n",
       "501     21.0  391.99   9.67  22.4  \n",
       "502     21.0  396.90   9.08  20.6  \n",
       "503     21.0  396.90   5.64  23.9  \n",
       "504     21.0  393.45   6.48  22.0  \n",
       "505     21.0  396.90   7.88  11.9  \n",
       "\n",
       "[506 rows x 14 columns]"
      ]
     },
     "execution_count": 4,
     "metadata": {},
     "output_type": "execute_result"
    }
   ],
   "source": [
    "housing"
   ]
  },
  {
   "cell_type": "markdown",
   "id": "e9fd52ee",
   "metadata": {
    "papermill": {
     "duration": 0.020661,
     "end_time": "2022-02-27T14:15:01.151445",
     "exception": false,
     "start_time": "2022-02-27T14:15:01.130784",
     "status": "completed"
    },
    "tags": []
   },
   "source": [
    "# Dimensions of the dataframe"
   ]
  },
  {
   "cell_type": "code",
   "execution_count": 5,
   "id": "af3d11cb",
   "metadata": {
    "execution": {
     "iopub.execute_input": "2022-02-27T14:15:01.199918Z",
     "iopub.status.busy": "2022-02-27T14:15:01.199446Z",
     "iopub.status.idle": "2022-02-27T14:15:01.201657Z",
     "shell.execute_reply": "2022-02-27T14:15:01.202114Z",
     "shell.execute_reply.started": "2022-02-27T13:29:18.169681Z"
    },
    "papermill": {
     "duration": 0.029111,
     "end_time": "2022-02-27T14:15:01.202266",
     "exception": false,
     "start_time": "2022-02-27T14:15:01.173155",
     "status": "completed"
    },
    "tags": []
   },
   "outputs": [
    {
     "data": {
      "text/plain": [
       "(506, 14)"
      ]
     },
     "execution_count": 5,
     "metadata": {},
     "output_type": "execute_result"
    }
   ],
   "source": [
    "housing.shape"
   ]
  },
  {
   "cell_type": "code",
   "execution_count": 6,
   "id": "3fdd5897",
   "metadata": {
    "execution": {
     "iopub.execute_input": "2022-02-27T14:15:01.247553Z",
     "iopub.status.busy": "2022-02-27T14:15:01.247022Z",
     "iopub.status.idle": "2022-02-27T14:15:01.264335Z",
     "shell.execute_reply": "2022-02-27T14:15:01.263796Z",
     "shell.execute_reply.started": "2022-02-27T13:29:43.278679Z"
    },
    "papermill": {
     "duration": 0.040959,
     "end_time": "2022-02-27T14:15:01.264455",
     "exception": false,
     "start_time": "2022-02-27T14:15:01.223496",
     "status": "completed"
    },
    "tags": []
   },
   "outputs": [
    {
     "data": {
      "text/html": [
       "<div>\n",
       "<style scoped>\n",
       "    .dataframe tbody tr th:only-of-type {\n",
       "        vertical-align: middle;\n",
       "    }\n",
       "\n",
       "    .dataframe tbody tr th {\n",
       "        vertical-align: top;\n",
       "    }\n",
       "\n",
       "    .dataframe thead th {\n",
       "        text-align: right;\n",
       "    }\n",
       "</style>\n",
       "<table border=\"1\" class=\"dataframe\">\n",
       "  <thead>\n",
       "    <tr style=\"text-align: right;\">\n",
       "      <th></th>\n",
       "      <th>CRIM</th>\n",
       "      <th>ZN</th>\n",
       "      <th>INDUS</th>\n",
       "      <th>CHAS</th>\n",
       "      <th>NOX</th>\n",
       "      <th>RM</th>\n",
       "      <th>AGE</th>\n",
       "      <th>DIS</th>\n",
       "      <th>RAD</th>\n",
       "      <th>TAX</th>\n",
       "      <th>PTRATIO</th>\n",
       "      <th>B</th>\n",
       "      <th>LSTAT</th>\n",
       "      <th>MEDV</th>\n",
       "    </tr>\n",
       "  </thead>\n",
       "  <tbody>\n",
       "    <tr>\n",
       "      <th>0</th>\n",
       "      <td>0.00632</td>\n",
       "      <td>18.0</td>\n",
       "      <td>2.31</td>\n",
       "      <td>0</td>\n",
       "      <td>0.538</td>\n",
       "      <td>6.575</td>\n",
       "      <td>65.2</td>\n",
       "      <td>4.0900</td>\n",
       "      <td>1</td>\n",
       "      <td>296.0</td>\n",
       "      <td>15.3</td>\n",
       "      <td>396.90</td>\n",
       "      <td>4.98</td>\n",
       "      <td>24.0</td>\n",
       "    </tr>\n",
       "    <tr>\n",
       "      <th>1</th>\n",
       "      <td>0.02731</td>\n",
       "      <td>0.0</td>\n",
       "      <td>7.07</td>\n",
       "      <td>0</td>\n",
       "      <td>0.469</td>\n",
       "      <td>6.421</td>\n",
       "      <td>78.9</td>\n",
       "      <td>4.9671</td>\n",
       "      <td>2</td>\n",
       "      <td>242.0</td>\n",
       "      <td>17.8</td>\n",
       "      <td>396.90</td>\n",
       "      <td>9.14</td>\n",
       "      <td>21.6</td>\n",
       "    </tr>\n",
       "    <tr>\n",
       "      <th>2</th>\n",
       "      <td>0.02729</td>\n",
       "      <td>0.0</td>\n",
       "      <td>7.07</td>\n",
       "      <td>0</td>\n",
       "      <td>0.469</td>\n",
       "      <td>7.185</td>\n",
       "      <td>61.1</td>\n",
       "      <td>4.9671</td>\n",
       "      <td>2</td>\n",
       "      <td>242.0</td>\n",
       "      <td>17.8</td>\n",
       "      <td>392.83</td>\n",
       "      <td>4.03</td>\n",
       "      <td>34.7</td>\n",
       "    </tr>\n",
       "    <tr>\n",
       "      <th>3</th>\n",
       "      <td>0.03237</td>\n",
       "      <td>0.0</td>\n",
       "      <td>2.18</td>\n",
       "      <td>0</td>\n",
       "      <td>0.458</td>\n",
       "      <td>6.998</td>\n",
       "      <td>45.8</td>\n",
       "      <td>6.0622</td>\n",
       "      <td>3</td>\n",
       "      <td>222.0</td>\n",
       "      <td>18.7</td>\n",
       "      <td>394.63</td>\n",
       "      <td>2.94</td>\n",
       "      <td>33.4</td>\n",
       "    </tr>\n",
       "    <tr>\n",
       "      <th>4</th>\n",
       "      <td>0.06905</td>\n",
       "      <td>0.0</td>\n",
       "      <td>2.18</td>\n",
       "      <td>0</td>\n",
       "      <td>0.458</td>\n",
       "      <td>7.147</td>\n",
       "      <td>54.2</td>\n",
       "      <td>6.0622</td>\n",
       "      <td>3</td>\n",
       "      <td>222.0</td>\n",
       "      <td>18.7</td>\n",
       "      <td>396.90</td>\n",
       "      <td>5.33</td>\n",
       "      <td>36.2</td>\n",
       "    </tr>\n",
       "  </tbody>\n",
       "</table>\n",
       "</div>"
      ],
      "text/plain": [
       "      CRIM    ZN  INDUS  CHAS    NOX     RM   AGE     DIS  RAD    TAX  \\\n",
       "0  0.00632  18.0   2.31     0  0.538  6.575  65.2  4.0900    1  296.0   \n",
       "1  0.02731   0.0   7.07     0  0.469  6.421  78.9  4.9671    2  242.0   \n",
       "2  0.02729   0.0   7.07     0  0.469  7.185  61.1  4.9671    2  242.0   \n",
       "3  0.03237   0.0   2.18     0  0.458  6.998  45.8  6.0622    3  222.0   \n",
       "4  0.06905   0.0   2.18     0  0.458  7.147  54.2  6.0622    3  222.0   \n",
       "\n",
       "   PTRATIO       B  LSTAT  MEDV  \n",
       "0     15.3  396.90   4.98  24.0  \n",
       "1     17.8  396.90   9.14  21.6  \n",
       "2     17.8  392.83   4.03  34.7  \n",
       "3     18.7  394.63   2.94  33.4  \n",
       "4     18.7  396.90   5.33  36.2  "
      ]
     },
     "execution_count": 6,
     "metadata": {},
     "output_type": "execute_result"
    }
   ],
   "source": [
    "housing.head()"
   ]
  },
  {
   "cell_type": "code",
   "execution_count": 7,
   "id": "edd9b186",
   "metadata": {
    "execution": {
     "iopub.execute_input": "2022-02-27T14:15:01.312096Z",
     "iopub.status.busy": "2022-02-27T14:15:01.311561Z",
     "iopub.status.idle": "2022-02-27T14:15:01.327612Z",
     "shell.execute_reply": "2022-02-27T14:15:01.328183Z",
     "shell.execute_reply.started": "2022-02-27T13:31:03.870468Z"
    },
    "papermill": {
     "duration": 0.041526,
     "end_time": "2022-02-27T14:15:01.328344",
     "exception": false,
     "start_time": "2022-02-27T14:15:01.286818",
     "status": "completed"
    },
    "tags": []
   },
   "outputs": [
    {
     "data": {
      "text/html": [
       "<div>\n",
       "<style scoped>\n",
       "    .dataframe tbody tr th:only-of-type {\n",
       "        vertical-align: middle;\n",
       "    }\n",
       "\n",
       "    .dataframe tbody tr th {\n",
       "        vertical-align: top;\n",
       "    }\n",
       "\n",
       "    .dataframe thead th {\n",
       "        text-align: right;\n",
       "    }\n",
       "</style>\n",
       "<table border=\"1\" class=\"dataframe\">\n",
       "  <thead>\n",
       "    <tr style=\"text-align: right;\">\n",
       "      <th></th>\n",
       "      <th>CRIM</th>\n",
       "      <th>ZN</th>\n",
       "      <th>INDUS</th>\n",
       "      <th>CHAS</th>\n",
       "      <th>NOX</th>\n",
       "      <th>RM</th>\n",
       "      <th>AGE</th>\n",
       "      <th>DIS</th>\n",
       "      <th>RAD</th>\n",
       "      <th>TAX</th>\n",
       "      <th>PTRATIO</th>\n",
       "      <th>B</th>\n",
       "      <th>LSTAT</th>\n",
       "      <th>MEDV</th>\n",
       "    </tr>\n",
       "  </thead>\n",
       "  <tbody>\n",
       "    <tr>\n",
       "      <th>501</th>\n",
       "      <td>0.06263</td>\n",
       "      <td>0.0</td>\n",
       "      <td>11.93</td>\n",
       "      <td>0</td>\n",
       "      <td>0.573</td>\n",
       "      <td>6.593</td>\n",
       "      <td>69.1</td>\n",
       "      <td>2.4786</td>\n",
       "      <td>1</td>\n",
       "      <td>273.0</td>\n",
       "      <td>21.0</td>\n",
       "      <td>391.99</td>\n",
       "      <td>9.67</td>\n",
       "      <td>22.4</td>\n",
       "    </tr>\n",
       "    <tr>\n",
       "      <th>502</th>\n",
       "      <td>0.04527</td>\n",
       "      <td>0.0</td>\n",
       "      <td>11.93</td>\n",
       "      <td>0</td>\n",
       "      <td>0.573</td>\n",
       "      <td>6.120</td>\n",
       "      <td>76.7</td>\n",
       "      <td>2.2875</td>\n",
       "      <td>1</td>\n",
       "      <td>273.0</td>\n",
       "      <td>21.0</td>\n",
       "      <td>396.90</td>\n",
       "      <td>9.08</td>\n",
       "      <td>20.6</td>\n",
       "    </tr>\n",
       "    <tr>\n",
       "      <th>503</th>\n",
       "      <td>0.06076</td>\n",
       "      <td>0.0</td>\n",
       "      <td>11.93</td>\n",
       "      <td>0</td>\n",
       "      <td>0.573</td>\n",
       "      <td>6.976</td>\n",
       "      <td>91.0</td>\n",
       "      <td>2.1675</td>\n",
       "      <td>1</td>\n",
       "      <td>273.0</td>\n",
       "      <td>21.0</td>\n",
       "      <td>396.90</td>\n",
       "      <td>5.64</td>\n",
       "      <td>23.9</td>\n",
       "    </tr>\n",
       "    <tr>\n",
       "      <th>504</th>\n",
       "      <td>0.10959</td>\n",
       "      <td>0.0</td>\n",
       "      <td>11.93</td>\n",
       "      <td>0</td>\n",
       "      <td>0.573</td>\n",
       "      <td>6.794</td>\n",
       "      <td>89.3</td>\n",
       "      <td>2.3889</td>\n",
       "      <td>1</td>\n",
       "      <td>273.0</td>\n",
       "      <td>21.0</td>\n",
       "      <td>393.45</td>\n",
       "      <td>6.48</td>\n",
       "      <td>22.0</td>\n",
       "    </tr>\n",
       "    <tr>\n",
       "      <th>505</th>\n",
       "      <td>0.04741</td>\n",
       "      <td>0.0</td>\n",
       "      <td>11.93</td>\n",
       "      <td>0</td>\n",
       "      <td>0.573</td>\n",
       "      <td>6.030</td>\n",
       "      <td>80.8</td>\n",
       "      <td>2.5050</td>\n",
       "      <td>1</td>\n",
       "      <td>273.0</td>\n",
       "      <td>21.0</td>\n",
       "      <td>396.90</td>\n",
       "      <td>7.88</td>\n",
       "      <td>11.9</td>\n",
       "    </tr>\n",
       "  </tbody>\n",
       "</table>\n",
       "</div>"
      ],
      "text/plain": [
       "        CRIM   ZN  INDUS  CHAS    NOX     RM   AGE     DIS  RAD    TAX  \\\n",
       "501  0.06263  0.0  11.93     0  0.573  6.593  69.1  2.4786    1  273.0   \n",
       "502  0.04527  0.0  11.93     0  0.573  6.120  76.7  2.2875    1  273.0   \n",
       "503  0.06076  0.0  11.93     0  0.573  6.976  91.0  2.1675    1  273.0   \n",
       "504  0.10959  0.0  11.93     0  0.573  6.794  89.3  2.3889    1  273.0   \n",
       "505  0.04741  0.0  11.93     0  0.573  6.030  80.8  2.5050    1  273.0   \n",
       "\n",
       "     PTRATIO       B  LSTAT  MEDV  \n",
       "501     21.0  391.99   9.67  22.4  \n",
       "502     21.0  396.90   9.08  20.6  \n",
       "503     21.0  396.90   5.64  23.9  \n",
       "504     21.0  393.45   6.48  22.0  \n",
       "505     21.0  396.90   7.88  11.9  "
      ]
     },
     "execution_count": 7,
     "metadata": {},
     "output_type": "execute_result"
    }
   ],
   "source": [
    "housing.tail()"
   ]
  },
  {
   "cell_type": "code",
   "execution_count": 8,
   "id": "6bb0ebc0",
   "metadata": {
    "execution": {
     "iopub.execute_input": "2022-02-27T14:15:01.378765Z",
     "iopub.status.busy": "2022-02-27T14:15:01.378268Z",
     "iopub.status.idle": "2022-02-27T14:15:01.398760Z",
     "shell.execute_reply": "2022-02-27T14:15:01.399315Z",
     "shell.execute_reply.started": "2022-02-27T13:31:27.919202Z"
    },
    "papermill": {
     "duration": 0.048381,
     "end_time": "2022-02-27T14:15:01.399489",
     "exception": false,
     "start_time": "2022-02-27T14:15:01.351108",
     "status": "completed"
    },
    "tags": []
   },
   "outputs": [
    {
     "data": {
      "text/html": [
       "<div>\n",
       "<style scoped>\n",
       "    .dataframe tbody tr th:only-of-type {\n",
       "        vertical-align: middle;\n",
       "    }\n",
       "\n",
       "    .dataframe tbody tr th {\n",
       "        vertical-align: top;\n",
       "    }\n",
       "\n",
       "    .dataframe thead th {\n",
       "        text-align: right;\n",
       "    }\n",
       "</style>\n",
       "<table border=\"1\" class=\"dataframe\">\n",
       "  <thead>\n",
       "    <tr style=\"text-align: right;\">\n",
       "      <th></th>\n",
       "      <th>CRIM</th>\n",
       "      <th>ZN</th>\n",
       "      <th>INDUS</th>\n",
       "      <th>CHAS</th>\n",
       "      <th>NOX</th>\n",
       "      <th>RM</th>\n",
       "      <th>AGE</th>\n",
       "      <th>DIS</th>\n",
       "      <th>RAD</th>\n",
       "      <th>TAX</th>\n",
       "      <th>PTRATIO</th>\n",
       "      <th>B</th>\n",
       "      <th>LSTAT</th>\n",
       "      <th>MEDV</th>\n",
       "    </tr>\n",
       "  </thead>\n",
       "  <tbody>\n",
       "    <tr>\n",
       "      <th>404</th>\n",
       "      <td>41.52920</td>\n",
       "      <td>0.0</td>\n",
       "      <td>18.10</td>\n",
       "      <td>0</td>\n",
       "      <td>0.693</td>\n",
       "      <td>5.531</td>\n",
       "      <td>85.4</td>\n",
       "      <td>1.6074</td>\n",
       "      <td>24</td>\n",
       "      <td>666.0</td>\n",
       "      <td>20.2</td>\n",
       "      <td>329.46</td>\n",
       "      <td>27.38</td>\n",
       "      <td>8.5</td>\n",
       "    </tr>\n",
       "    <tr>\n",
       "      <th>212</th>\n",
       "      <td>0.21719</td>\n",
       "      <td>0.0</td>\n",
       "      <td>10.59</td>\n",
       "      <td>1</td>\n",
       "      <td>0.489</td>\n",
       "      <td>5.807</td>\n",
       "      <td>53.8</td>\n",
       "      <td>3.6526</td>\n",
       "      <td>4</td>\n",
       "      <td>277.0</td>\n",
       "      <td>18.6</td>\n",
       "      <td>390.94</td>\n",
       "      <td>16.03</td>\n",
       "      <td>22.4</td>\n",
       "    </tr>\n",
       "    <tr>\n",
       "      <th>453</th>\n",
       "      <td>8.24809</td>\n",
       "      <td>0.0</td>\n",
       "      <td>18.10</td>\n",
       "      <td>0</td>\n",
       "      <td>0.713</td>\n",
       "      <td>7.393</td>\n",
       "      <td>99.3</td>\n",
       "      <td>2.4527</td>\n",
       "      <td>24</td>\n",
       "      <td>666.0</td>\n",
       "      <td>20.2</td>\n",
       "      <td>375.87</td>\n",
       "      <td>16.74</td>\n",
       "      <td>17.8</td>\n",
       "    </tr>\n",
       "    <tr>\n",
       "      <th>348</th>\n",
       "      <td>0.01501</td>\n",
       "      <td>80.0</td>\n",
       "      <td>2.01</td>\n",
       "      <td>0</td>\n",
       "      <td>0.435</td>\n",
       "      <td>6.635</td>\n",
       "      <td>29.7</td>\n",
       "      <td>8.3440</td>\n",
       "      <td>4</td>\n",
       "      <td>280.0</td>\n",
       "      <td>17.0</td>\n",
       "      <td>390.94</td>\n",
       "      <td>5.99</td>\n",
       "      <td>24.5</td>\n",
       "    </tr>\n",
       "    <tr>\n",
       "      <th>367</th>\n",
       "      <td>13.52220</td>\n",
       "      <td>0.0</td>\n",
       "      <td>18.10</td>\n",
       "      <td>0</td>\n",
       "      <td>0.631</td>\n",
       "      <td>3.863</td>\n",
       "      <td>100.0</td>\n",
       "      <td>1.5106</td>\n",
       "      <td>24</td>\n",
       "      <td>666.0</td>\n",
       "      <td>20.2</td>\n",
       "      <td>131.42</td>\n",
       "      <td>13.33</td>\n",
       "      <td>23.1</td>\n",
       "    </tr>\n",
       "  </tbody>\n",
       "</table>\n",
       "</div>"
      ],
      "text/plain": [
       "         CRIM    ZN  INDUS  CHAS    NOX     RM    AGE     DIS  RAD    TAX  \\\n",
       "404  41.52920   0.0  18.10     0  0.693  5.531   85.4  1.6074   24  666.0   \n",
       "212   0.21719   0.0  10.59     1  0.489  5.807   53.8  3.6526    4  277.0   \n",
       "453   8.24809   0.0  18.10     0  0.713  7.393   99.3  2.4527   24  666.0   \n",
       "348   0.01501  80.0   2.01     0  0.435  6.635   29.7  8.3440    4  280.0   \n",
       "367  13.52220   0.0  18.10     0  0.631  3.863  100.0  1.5106   24  666.0   \n",
       "\n",
       "     PTRATIO       B  LSTAT  MEDV  \n",
       "404     20.2  329.46  27.38   8.5  \n",
       "212     18.6  390.94  16.03  22.4  \n",
       "453     20.2  375.87  16.74  17.8  \n",
       "348     17.0  390.94   5.99  24.5  \n",
       "367     20.2  131.42  13.33  23.1  "
      ]
     },
     "execution_count": 8,
     "metadata": {},
     "output_type": "execute_result"
    }
   ],
   "source": [
    "housing.sample(5)"
   ]
  },
  {
   "cell_type": "markdown",
   "id": "82b4dfcc",
   "metadata": {
    "papermill": {
     "duration": 0.034958,
     "end_time": "2022-02-27T14:15:01.470451",
     "exception": false,
     "start_time": "2022-02-27T14:15:01.435493",
     "status": "completed"
    },
    "tags": []
   },
   "source": [
    "# Missing values"
   ]
  },
  {
   "cell_type": "code",
   "execution_count": 9,
   "id": "cf1060b7",
   "metadata": {
    "execution": {
     "iopub.execute_input": "2022-02-27T14:15:01.544949Z",
     "iopub.status.busy": "2022-02-27T14:15:01.544115Z",
     "iopub.status.idle": "2022-02-27T14:15:01.550293Z",
     "shell.execute_reply": "2022-02-27T14:15:01.550918Z",
     "shell.execute_reply.started": "2022-02-27T13:32:31.999338Z"
    },
    "papermill": {
     "duration": 0.044974,
     "end_time": "2022-02-27T14:15:01.551102",
     "exception": false,
     "start_time": "2022-02-27T14:15:01.506128",
     "status": "completed"
    },
    "tags": []
   },
   "outputs": [
    {
     "data": {
      "text/plain": [
       "CRIM       0\n",
       "ZN         0\n",
       "INDUS      0\n",
       "CHAS       0\n",
       "NOX        0\n",
       "RM         0\n",
       "AGE        0\n",
       "DIS        0\n",
       "RAD        0\n",
       "TAX        0\n",
       "PTRATIO    0\n",
       "B          0\n",
       "LSTAT      0\n",
       "MEDV       0\n",
       "dtype: int64"
      ]
     },
     "execution_count": 9,
     "metadata": {},
     "output_type": "execute_result"
    }
   ],
   "source": [
    "housing.isnull().sum()"
   ]
  },
  {
   "cell_type": "code",
   "execution_count": 10,
   "id": "83568ea5",
   "metadata": {
    "execution": {
     "iopub.execute_input": "2022-02-27T14:15:01.636522Z",
     "iopub.status.busy": "2022-02-27T14:15:01.635643Z",
     "iopub.status.idle": "2022-02-27T14:15:02.349783Z",
     "shell.execute_reply": "2022-02-27T14:15:02.350373Z",
     "shell.execute_reply.started": "2022-02-27T13:33:01.349947Z"
    },
    "papermill": {
     "duration": 0.762358,
     "end_time": "2022-02-27T14:15:02.350550",
     "exception": false,
     "start_time": "2022-02-27T14:15:01.588192",
     "status": "completed"
    },
    "tags": []
   },
   "outputs": [
    {
     "data": {
      "text/plain": [
       "<AxesSubplot:>"
      ]
     },
     "execution_count": 10,
     "metadata": {},
     "output_type": "execute_result"
    },
    {
     "data": {
      "image/png": "[encoded data removed]",
      "text/plain": [
       "<Figure size 1728x720 with 3 Axes>"
      ]
     },
     "metadata": {
      "needs_background": "light"
     },
     "output_type": "display_data"
    }
   ],
   "source": [
    "msno.bar(housing,color='tomato')"
   ]
  },
  {
   "cell_type": "code",
   "execution_count": 11,
   "id": "f7614c31",
   "metadata": {
    "execution": {
     "iopub.execute_input": "2022-02-27T14:15:02.430484Z",
     "iopub.status.busy": "2022-02-27T14:15:02.429670Z",
     "iopub.status.idle": "2022-02-27T14:15:02.440710Z",
     "shell.execute_reply": "2022-02-27T14:15:02.440145Z",
     "shell.execute_reply.started": "2022-02-27T13:49:20.858539Z"
    },
    "papermill": {
     "duration": 0.051924,
     "end_time": "2022-02-27T14:15:02.440834",
     "exception": false,
     "start_time": "2022-02-27T14:15:02.388910",
     "status": "completed"
    },
    "tags": []
   },
   "outputs": [
    {
     "data": {
      "text/plain": [
       "CRIM       504\n",
       "ZN          26\n",
       "INDUS       76\n",
       "CHAS         2\n",
       "NOX         81\n",
       "RM         446\n",
       "AGE        356\n",
       "DIS        412\n",
       "RAD          9\n",
       "TAX         66\n",
       "PTRATIO     46\n",
       "B          357\n",
       "LSTAT      455\n",
       "MEDV       229\n",
       "dtype: int64"
      ]
     },
     "execution_count": 11,
     "metadata": {},
     "output_type": "execute_result"
    }
   ],
   "source": [
    "housing.nunique()"
   ]
  },
  {
   "cell_type": "code",
   "execution_count": 12,
   "id": "55a6c5df",
   "metadata": {
    "execution": {
     "iopub.execute_input": "2022-02-27T14:15:02.499138Z",
     "iopub.status.busy": "2022-02-27T14:15:02.498400Z",
     "iopub.status.idle": "2022-02-27T14:15:02.502189Z",
     "shell.execute_reply": "2022-02-27T14:15:02.501701Z",
     "shell.execute_reply.started": "2022-02-27T13:50:13.463267Z"
    },
    "papermill": {
     "duration": 0.035894,
     "end_time": "2022-02-27T14:15:02.502326",
     "exception": false,
     "start_time": "2022-02-27T14:15:02.466432",
     "status": "completed"
    },
    "tags": []
   },
   "outputs": [
    {
     "data": {
      "text/plain": [
       "24    132\n",
       "5     115\n",
       "4     110\n",
       "3      38\n",
       "6      26\n",
       "2      24\n",
       "8      24\n",
       "1      20\n",
       "7      17\n",
       "Name: RAD, dtype: int64"
      ]
     },
     "execution_count": 12,
     "metadata": {},
     "output_type": "execute_result"
    }
   ],
   "source": [
    "housing['RAD'].value_counts()"
   ]
  },
  {
   "cell_type": "code",
   "execution_count": 13,
   "id": "50e78c5a",
   "metadata": {
    "execution": {
     "iopub.execute_input": "2022-02-27T14:15:02.568746Z",
     "iopub.status.busy": "2022-02-27T14:15:02.567225Z",
     "iopub.status.idle": "2022-02-27T14:15:02.692481Z",
     "shell.execute_reply": "2022-02-27T14:15:02.693087Z",
     "shell.execute_reply.started": "2022-02-27T13:36:32.424660Z"
    },
    "papermill": {
     "duration": 0.164899,
     "end_time": "2022-02-27T14:15:02.693266",
     "exception": false,
     "start_time": "2022-02-27T14:15:02.528367",
     "status": "completed"
    },
    "tags": []
   },
   "outputs": [
    {
     "data": {
      "text/plain": [
       "<AxesSubplot:>"
      ]
     },
     "execution_count": 13,
     "metadata": {},
     "output_type": "execute_result"
    },
    {
     "data": {
      "image/png": "[encoded data removed]",
      "text/plain": [
       "<Figure size 432x288 with 1 Axes>"
      ]
     },
     "metadata": {
      "needs_background": "light"
     },
     "output_type": "display_data"
    }
   ],
   "source": [
    "housing['NOX'].hist()"
   ]
  },
  {
   "cell_type": "code",
   "execution_count": 14,
   "id": "ce23b505",
   "metadata": {
    "execution": {
     "iopub.execute_input": "2022-02-27T14:15:02.755935Z",
     "iopub.status.busy": "2022-02-27T14:15:02.755386Z",
     "iopub.status.idle": "2022-02-27T14:15:02.759166Z",
     "shell.execute_reply": "2022-02-27T14:15:02.759608Z",
     "shell.execute_reply.started": "2022-02-27T13:48:36.588083Z"
    },
    "papermill": {
     "duration": 0.03565,
     "end_time": "2022-02-27T14:15:02.759745",
     "exception": false,
     "start_time": "2022-02-27T14:15:02.724095",
     "status": "completed"
    },
    "tags": []
   },
   "outputs": [],
   "source": [
    "bins = [0,0.40,0.50,0.70,0.80,1]\n",
    "labels = ['moderate','poor','very_poor','svere','very_severe']\n",
    "housing['air_quality'] = pd.cut(housing['NOX'], bins=bins, labels=labels)"
   ]
  },
  {
   "cell_type": "code",
   "execution_count": 15,
   "id": "b0177802",
   "metadata": {
    "execution": {
     "iopub.execute_input": "2022-02-27T14:15:02.815649Z",
     "iopub.status.busy": "2022-02-27T14:15:02.815177Z",
     "iopub.status.idle": "2022-02-27T14:15:02.973313Z",
     "shell.execute_reply": "2022-02-27T14:15:02.973869Z",
     "shell.execute_reply.started": "2022-02-27T13:48:38.971170Z"
    },
    "papermill": {
     "duration": 0.187702,
     "end_time": "2022-02-27T14:15:02.974088",
     "exception": false,
     "start_time": "2022-02-27T14:15:02.786386",
     "status": "completed"
    },
    "tags": []
   },
   "outputs": [
    {
     "data": {
      "text/plain": [
       "<AxesSubplot:>"
      ]
     },
     "execution_count": 15,
     "metadata": {},
     "output_type": "execute_result"
    },
    {
     "data": {
      "image/png": "[encoded data removed]",
      "text/plain": [
       "<Figure size 432x288 with 1 Axes>"
      ]
     },
     "metadata": {
      "needs_background": "light"
     },
     "output_type": "display_data"
    }
   ],
   "source": [
    "housing['air_quality'].value_counts().plot(kind='bar')"
   ]
  },
  {
   "cell_type": "code",
   "execution_count": 16,
   "id": "a84908cb",
   "metadata": {
    "execution": {
     "iopub.execute_input": "2022-02-27T14:15:03.070824Z",
     "iopub.status.busy": "2022-02-27T14:15:03.070298Z",
     "iopub.status.idle": "2022-02-27T14:15:03.071712Z",
     "shell.execute_reply": "2022-02-27T14:15:03.072190Z",
     "shell.execute_reply.started": "2022-02-27T13:55:01.510152Z"
    },
    "papermill": {
     "duration": 0.055794,
     "end_time": "2022-02-27T14:15:03.072332",
     "exception": false,
     "start_time": "2022-02-27T14:15:03.016538",
     "status": "completed"
    },
    "tags": []
   },
   "outputs": [],
   "source": [
    "col=['ZN','RAD','air_quality']\n",
    "housing[col]=housing[col].astype('category')"
   ]
  },
  {
   "cell_type": "markdown",
   "id": "86850ddd",
   "metadata": {
    "papermill": {
     "duration": 0.026382,
     "end_time": "2022-02-27T14:15:03.126470",
     "exception": false,
     "start_time": "2022-02-27T14:15:03.100088",
     "status": "completed"
    },
    "tags": []
   },
   "source": [
    "# Information about the schema"
   ]
  },
  {
   "cell_type": "code",
   "execution_count": 17,
   "id": "894afa65",
   "metadata": {
    "execution": {
     "iopub.execute_input": "2022-02-27T14:15:03.185103Z",
     "iopub.status.busy": "2022-02-27T14:15:03.184548Z",
     "iopub.status.idle": "2022-02-27T14:15:03.203692Z",
     "shell.execute_reply": "2022-02-27T14:15:03.202645Z",
     "shell.execute_reply.started": "2022-02-27T14:07:47.630463Z"
    },
    "papermill": {
     "duration": 0.050031,
     "end_time": "2022-02-27T14:15:03.203916",
     "exception": false,
     "start_time": "2022-02-27T14:15:03.153885",
     "status": "completed"
    },
    "tags": []
   },
   "outputs": [
    {
     "name": "stdout",
     "output_type": "stream",
     "text": [
      "<class 'pandas.core.frame.DataFrame'>\n",
      "RangeIndex: 506 entries, 0 to 505\n",
      "Data columns (total 15 columns):\n",
      " #   Column       Non-Null Count  Dtype   \n",
      "---  ------       --------------  -----   \n",
      " 0   CRIM         506 non-null    float64 \n",
      " 1   ZN           506 non-null    category\n",
      " 2   INDUS        506 non-null    float64 \n",
      " 3   CHAS         506 non-null    int64   \n",
      " 4   NOX          506 non-null    float64 \n",
      " 5   RM           506 non-null    float64 \n",
      " 6   AGE          506 non-null    float64 \n",
      " 7   DIS          506 non-null    float64 \n",
      " 8   RAD          506 non-null    category\n",
      " 9   TAX          506 non-null    float64 \n",
      " 10  PTRATIO      506 non-null    float64 \n",
      " 11  B            506 non-null    float64 \n",
      " 12  LSTAT        506 non-null    float64 \n",
      " 13  MEDV         506 non-null    float64 \n",
      " 14  air_quality  506 non-null    category\n",
      "dtypes: category(3), float64(11), int64(1)\n",
      "memory usage: 50.9 KB\n"
     ]
    }
   ],
   "source": [
    "housing.info()"
   ]
  },
  {
   "cell_type": "markdown",
   "id": "9d6e937d",
   "metadata": {
    "papermill": {
     "duration": 0.029094,
     "end_time": "2022-02-27T14:15:03.262248",
     "exception": false,
     "start_time": "2022-02-27T14:15:03.233154",
     "status": "completed"
    },
    "tags": []
   },
   "source": [
    "# Statistical metrics of each column"
   ]
  },
  {
   "cell_type": "code",
   "execution_count": 18,
   "id": "83abceab",
   "metadata": {
    "execution": {
     "iopub.execute_input": "2022-02-27T14:15:03.321251Z",
     "iopub.status.busy": "2022-02-27T14:15:03.320609Z",
     "iopub.status.idle": "2022-02-27T14:15:03.359392Z",
     "shell.execute_reply": "2022-02-27T14:15:03.358859Z",
     "shell.execute_reply.started": "2022-02-27T14:10:53.517525Z"
    },
    "papermill": {
     "duration": 0.069153,
     "end_time": "2022-02-27T14:15:03.359523",
     "exception": false,
     "start_time": "2022-02-27T14:15:03.290370",
     "status": "completed"
    },
    "tags": []
   },
   "outputs": [
    {
     "data": {
      "text/html": [
       "<div>\n",
       "<style scoped>\n",
       "    .dataframe tbody tr th:only-of-type {\n",
       "        vertical-align: middle;\n",
       "    }\n",
       "\n",
       "    .dataframe tbody tr th {\n",
       "        vertical-align: top;\n",
       "    }\n",
       "\n",
       "    .dataframe thead th {\n",
       "        text-align: right;\n",
       "    }\n",
       "</style>\n",
       "<table border=\"1\" class=\"dataframe\">\n",
       "  <thead>\n",
       "    <tr style=\"text-align: right;\">\n",
       "      <th></th>\n",
       "      <th>CRIM</th>\n",
       "      <th>INDUS</th>\n",
       "      <th>CHAS</th>\n",
       "      <th>NOX</th>\n",
       "      <th>RM</th>\n",
       "      <th>AGE</th>\n",
       "      <th>DIS</th>\n",
       "      <th>TAX</th>\n",
       "      <th>PTRATIO</th>\n",
       "      <th>B</th>\n",
       "      <th>LSTAT</th>\n",
       "      <th>MEDV</th>\n",
       "    </tr>\n",
       "  </thead>\n",
       "  <tbody>\n",
       "    <tr>\n",
       "      <th>count</th>\n",
       "      <td>506.000000</td>\n",
       "      <td>506.000000</td>\n",
       "      <td>506.000000</td>\n",
       "      <td>506.000000</td>\n",
       "      <td>506.000000</td>\n",
       "      <td>506.000000</td>\n",
       "      <td>506.000000</td>\n",
       "      <td>506.000000</td>\n",
       "      <td>506.000000</td>\n",
       "      <td>506.000000</td>\n",
       "      <td>506.000000</td>\n",
       "      <td>506.000000</td>\n",
       "    </tr>\n",
       "    <tr>\n",
       "      <th>mean</th>\n",
       "      <td>3.613524</td>\n",
       "      <td>11.136779</td>\n",
       "      <td>0.069170</td>\n",
       "      <td>0.554695</td>\n",
       "      <td>6.284634</td>\n",
       "      <td>68.574901</td>\n",
       "      <td>3.795043</td>\n",
       "      <td>408.237154</td>\n",
       "      <td>18.455534</td>\n",
       "      <td>356.674032</td>\n",
       "      <td>12.653063</td>\n",
       "      <td>22.532806</td>\n",
       "    </tr>\n",
       "    <tr>\n",
       "      <th>std</th>\n",
       "      <td>8.601545</td>\n",
       "      <td>6.860353</td>\n",
       "      <td>0.253994</td>\n",
       "      <td>0.115878</td>\n",
       "      <td>0.702617</td>\n",
       "      <td>28.148861</td>\n",
       "      <td>2.105710</td>\n",
       "      <td>168.537116</td>\n",
       "      <td>2.164946</td>\n",
       "      <td>91.294864</td>\n",
       "      <td>7.141062</td>\n",
       "      <td>9.197104</td>\n",
       "    </tr>\n",
       "    <tr>\n",
       "      <th>min</th>\n",
       "      <td>0.006320</td>\n",
       "      <td>0.460000</td>\n",
       "      <td>0.000000</td>\n",
       "      <td>0.385000</td>\n",
       "      <td>3.561000</td>\n",
       "      <td>2.900000</td>\n",
       "      <td>1.129600</td>\n",
       "      <td>187.000000</td>\n",
       "      <td>12.600000</td>\n",
       "      <td>0.320000</td>\n",
       "      <td>1.730000</td>\n",
       "      <td>5.000000</td>\n",
       "    </tr>\n",
       "    <tr>\n",
       "      <th>25%</th>\n",
       "      <td>0.082045</td>\n",
       "      <td>5.190000</td>\n",
       "      <td>0.000000</td>\n",
       "      <td>0.449000</td>\n",
       "      <td>5.885500</td>\n",
       "      <td>45.025000</td>\n",
       "      <td>2.100175</td>\n",
       "      <td>279.000000</td>\n",
       "      <td>17.400000</td>\n",
       "      <td>375.377500</td>\n",
       "      <td>6.950000</td>\n",
       "      <td>17.025000</td>\n",
       "    </tr>\n",
       "    <tr>\n",
       "      <th>50%</th>\n",
       "      <td>0.256510</td>\n",
       "      <td>9.690000</td>\n",
       "      <td>0.000000</td>\n",
       "      <td>0.538000</td>\n",
       "      <td>6.208500</td>\n",
       "      <td>77.500000</td>\n",
       "      <td>3.207450</td>\n",
       "      <td>330.000000</td>\n",
       "      <td>19.050000</td>\n",
       "      <td>391.440000</td>\n",
       "      <td>11.360000</td>\n",
       "      <td>21.200000</td>\n",
       "    </tr>\n",
       "    <tr>\n",
       "      <th>75%</th>\n",
       "      <td>3.677083</td>\n",
       "      <td>18.100000</td>\n",
       "      <td>0.000000</td>\n",
       "      <td>0.624000</td>\n",
       "      <td>6.623500</td>\n",
       "      <td>94.075000</td>\n",
       "      <td>5.188425</td>\n",
       "      <td>666.000000</td>\n",
       "      <td>20.200000</td>\n",
       "      <td>396.225000</td>\n",
       "      <td>16.955000</td>\n",
       "      <td>25.000000</td>\n",
       "    </tr>\n",
       "    <tr>\n",
       "      <th>max</th>\n",
       "      <td>88.976200</td>\n",
       "      <td>27.740000</td>\n",
       "      <td>1.000000</td>\n",
       "      <td>0.871000</td>\n",
       "      <td>8.780000</td>\n",
       "      <td>100.000000</td>\n",
       "      <td>12.126500</td>\n",
       "      <td>711.000000</td>\n",
       "      <td>22.000000</td>\n",
       "      <td>396.900000</td>\n",
       "      <td>37.970000</td>\n",
       "      <td>50.000000</td>\n",
       "    </tr>\n",
       "  </tbody>\n",
       "</table>\n",
       "</div>"
      ],
      "text/plain": [
       "             CRIM       INDUS        CHAS         NOX          RM         AGE  \\\n",
       "count  506.000000  506.000000  506.000000  506.000000  506.000000  506.000000   \n",
       "mean     3.613524   11.136779    0.069170    0.554695    6.284634   68.574901   \n",
       "std      8.601545    6.860353    0.253994    0.115878    0.702617   28.148861   \n",
       "min      0.006320    0.460000    0.000000    0.385000    3.561000    2.900000   \n",
       "25%      0.082045    5.190000    0.000000    0.449000    5.885500   45.025000   \n",
       "50%      0.256510    9.690000    0.000000    0.538000    6.208500   77.500000   \n",
       "75%      3.677083   18.100000    0.000000    0.624000    6.623500   94.075000   \n",
       "max     88.976200   27.740000    1.000000    0.871000    8.780000  100.000000   \n",
       "\n",
       "              DIS         TAX     PTRATIO           B       LSTAT        MEDV  \n",
       "count  506.000000  506.000000  506.000000  506.000000  506.000000  506.000000  \n",
       "mean     3.795043  408.237154   18.455534  356.674032   12.653063   22.532806  \n",
       "std      2.105710  168.537116    2.164946   91.294864    7.141062    9.197104  \n",
       "min      1.129600  187.000000   12.600000    0.320000    1.730000    5.000000  \n",
       "25%      2.100175  279.000000   17.400000  375.377500    6.950000   17.025000  \n",
       "50%      3.207450  330.000000   19.050000  391.440000   11.360000   21.200000  \n",
       "75%      5.188425  666.000000   20.200000  396.225000   16.955000   25.000000  \n",
       "max     12.126500  711.000000   22.000000  396.900000   37.970000   50.000000  "
      ]
     },
     "execution_count": 18,
     "metadata": {},
     "output_type": "execute_result"
    }
   ],
   "source": [
    "housing.describe()"
   ]
  },
  {
   "cell_type": "code",
   "execution_count": 19,
   "id": "468b1211",
   "metadata": {
    "execution": {
     "iopub.execute_input": "2022-02-27T14:15:03.422021Z",
     "iopub.status.busy": "2022-02-27T14:15:03.421358Z",
     "iopub.status.idle": "2022-02-27T14:15:03.439312Z",
     "shell.execute_reply": "2022-02-27T14:15:03.439760Z",
     "shell.execute_reply.started": "2022-02-27T14:10:56.555220Z"
    },
    "papermill": {
     "duration": 0.051148,
     "end_time": "2022-02-27T14:15:03.439959",
     "exception": false,
     "start_time": "2022-02-27T14:15:03.388811",
     "status": "completed"
    },
    "tags": []
   },
   "outputs": [
    {
     "data": {
      "text/html": [
       "<div>\n",
       "<style scoped>\n",
       "    .dataframe tbody tr th:only-of-type {\n",
       "        vertical-align: middle;\n",
       "    }\n",
       "\n",
       "    .dataframe tbody tr th {\n",
       "        vertical-align: top;\n",
       "    }\n",
       "\n",
       "    .dataframe thead th {\n",
       "        text-align: right;\n",
       "    }\n",
       "</style>\n",
       "<table border=\"1\" class=\"dataframe\">\n",
       "  <thead>\n",
       "    <tr style=\"text-align: right;\">\n",
       "      <th></th>\n",
       "      <th>ZN</th>\n",
       "      <th>RAD</th>\n",
       "      <th>air_quality</th>\n",
       "    </tr>\n",
       "  </thead>\n",
       "  <tbody>\n",
       "    <tr>\n",
       "      <th>count</th>\n",
       "      <td>506.0</td>\n",
       "      <td>506</td>\n",
       "      <td>506</td>\n",
       "    </tr>\n",
       "    <tr>\n",
       "      <th>unique</th>\n",
       "      <td>26.0</td>\n",
       "      <td>9</td>\n",
       "      <td>5</td>\n",
       "    </tr>\n",
       "    <tr>\n",
       "      <th>top</th>\n",
       "      <td>0.0</td>\n",
       "      <td>24</td>\n",
       "      <td>very_poor</td>\n",
       "    </tr>\n",
       "    <tr>\n",
       "      <th>freq</th>\n",
       "      <td>372.0</td>\n",
       "      <td>132</td>\n",
       "      <td>253</td>\n",
       "    </tr>\n",
       "  </tbody>\n",
       "</table>\n",
       "</div>"
      ],
      "text/plain": [
       "           ZN  RAD air_quality\n",
       "count   506.0  506         506\n",
       "unique   26.0    9           5\n",
       "top       0.0   24   very_poor\n",
       "freq    372.0  132         253"
      ]
     },
     "execution_count": 19,
     "metadata": {},
     "output_type": "execute_result"
    }
   ],
   "source": [
    "housing.describe(include='category')"
   ]
  },
  {
   "cell_type": "markdown",
   "id": "8c95e50c",
   "metadata": {
    "papermill": {
     "duration": 0.028376,
     "end_time": "2022-02-27T14:15:03.498432",
     "exception": false,
     "start_time": "2022-02-27T14:15:03.470056",
     "status": "completed"
    },
    "tags": []
   },
   "source": [
    "\n",
    "\n",
    "# \n",
    "# Provide the following information about the dataframe;\n",
    "# \n",
    "\n",
    "# \n",
    "\n",
    "# \n",
    "\n",
    "# \n",
    "# Conduct the following data pre-processing steps only as necessary along with the reason behind doing it with suitable steps;\n",
    "# \n",
    "\n",
    "# \n",
    "# Erroneous/wrong values\n",
    "# \n",
    "# Skewed data\n",
    "# \n",
    "# Outliers\n",
    "# \n",
    "# Perform exploratory data analysis and provide key insights derived from the same backed with suitable graphs and plots. Few hints to get you started;\n",
    "# \n",
    "# Distribution of numerical variables\n",
    "# \n",
    "# Distribution of categorical variables\n",
    "# \n",
    "# Numerical vs Categorical plots\n",
    "# \n",
    "# Numerical vs Numerical plots\n"
   ]
  }
 ],
 "metadata": {
  "kernelspec": {
   "display_name": "Python 3",
   "language": "python",
   "name": "python3"
  },
  "language_info": {
   "codemirror_mode": {
    "name": "ipython",
    "version": 3
   },
   "file_extension": ".py",
   "mimetype": "text/x-python",
   "name": "python",
   "nbconvert_exporter": "python",
   "pygments_lexer": "ipython3",
   "version": "3.7.12"
  },
  "papermill": {
   "default_parameters": {},
   "duration": 12.185612,
   "end_time": "2022-02-27T14:15:04.238502",
   "environment_variables": {},
   "exception": null,
   "input_path": "__notebook__.ipynb",
   "output_path": "__notebook__.ipynb",
   "parameters": {},
   "start_time": "2022-02-27T14:14:52.052890",
   "version": "2.3.3"
  }
 },
 "nbformat": 4,
 "nbformat_minor": 5
}
